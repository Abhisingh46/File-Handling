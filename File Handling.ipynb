{
 "cells": [
  {
   "cell_type": "code",
   "execution_count": 1,
   "id": "301d7dcb",
   "metadata": {},
   "outputs": [],
   "source": [
    "#File Hnadling"
   ]
  },
  {
   "cell_type": "code",
   "execution_count": 2,
   "id": "e1fbee8a",
   "metadata": {},
   "outputs": [],
   "source": [
    "##Opening File"
   ]
  },
  {
   "cell_type": "code",
   "execution_count": 3,
   "id": "e06f1d7c",
   "metadata": {},
   "outputs": [],
   "source": [
    "fp = open(\"sample file.txt\")"
   ]
  },
  {
   "cell_type": "code",
   "execution_count": 5,
   "id": "0d6dcea3",
   "metadata": {},
   "outputs": [
    {
     "data": {
      "text/plain": [
       "'My Name is kumar abhinandam'"
      ]
     },
     "execution_count": 5,
     "metadata": {},
     "output_type": "execute_result"
    }
   ],
   "source": [
    "fp.read()"
   ]
  },
  {
   "cell_type": "code",
   "execution_count": 6,
   "id": "3935d32c",
   "metadata": {},
   "outputs": [],
   "source": [
    "fp.close()"
   ]
  },
  {
   "cell_type": "code",
   "execution_count": 7,
   "id": "55d52660",
   "metadata": {},
   "outputs": [
    {
     "ename": "ValueError",
     "evalue": "I/O operation on closed file.",
     "output_type": "error",
     "traceback": [
      "\u001b[1;31m---------------------------------------------------------------------------\u001b[0m",
      "\u001b[1;31mValueError\u001b[0m                                Traceback (most recent call last)",
      "\u001b[1;32m<ipython-input-7-5b707e20d623>\u001b[0m in \u001b[0;36m<module>\u001b[1;34m\u001b[0m\n\u001b[1;32m----> 1\u001b[1;33m \u001b[0mfp\u001b[0m\u001b[1;33m.\u001b[0m\u001b[0mread\u001b[0m\u001b[1;33m(\u001b[0m\u001b[1;33m)\u001b[0m\u001b[1;33m\u001b[0m\u001b[1;33m\u001b[0m\u001b[0m\n\u001b[0m",
      "\u001b[1;31mValueError\u001b[0m: I/O operation on closed file."
     ]
    }
   ],
   "source": [
    "fp.read()"
   ]
  },
  {
   "cell_type": "code",
   "execution_count": 9,
   "id": "70c7fc01",
   "metadata": {},
   "outputs": [],
   "source": [
    "fp = open(\"sample file.txt\")"
   ]
  },
  {
   "cell_type": "code",
   "execution_count": 10,
   "id": "12dbb5ff",
   "metadata": {},
   "outputs": [
    {
     "data": {
      "text/plain": [
       "'My Name is kumar abhinandam\\nAbhinandan is a data scientiest.'"
      ]
     },
     "execution_count": 10,
     "metadata": {},
     "output_type": "execute_result"
    }
   ],
   "source": [
    "fp.read()"
   ]
  },
  {
   "cell_type": "code",
   "execution_count": 13,
   "id": "1881faf1",
   "metadata": {},
   "outputs": [],
   "source": [
    "fp.close()"
   ]
  },
  {
   "cell_type": "code",
   "execution_count": 15,
   "id": "d040b5b8",
   "metadata": {},
   "outputs": [],
   "source": [
    "fp = open(\"sample file.txt\")"
   ]
  },
  {
   "cell_type": "code",
   "execution_count": 16,
   "id": "6ef6a2fa",
   "metadata": {},
   "outputs": [
    {
     "data": {
      "text/plain": [
       "'My Name is kumar abhinandam\\n'"
      ]
     },
     "execution_count": 16,
     "metadata": {},
     "output_type": "execute_result"
    }
   ],
   "source": [
    "fp.readline()"
   ]
  },
  {
   "cell_type": "code",
   "execution_count": 17,
   "id": "a1feceed",
   "metadata": {},
   "outputs": [
    {
     "data": {
      "text/plain": [
       "['Abhinandan is a data scientiest.']"
      ]
     },
     "execution_count": 17,
     "metadata": {},
     "output_type": "execute_result"
    }
   ],
   "source": [
    "fp.readlines()"
   ]
  },
  {
   "cell_type": "code",
   "execution_count": 18,
   "id": "9891de65",
   "metadata": {},
   "outputs": [],
   "source": [
    "fp.close()"
   ]
  },
  {
   "cell_type": "code",
   "execution_count": 19,
   "id": "e5088cde",
   "metadata": {},
   "outputs": [],
   "source": [
    "fp=open(\"sample file.txt\")"
   ]
  },
  {
   "cell_type": "code",
   "execution_count": 20,
   "id": "94b2af87",
   "metadata": {},
   "outputs": [
    {
     "data": {
      "text/plain": [
       "['My Name is kumar abhinandam\\n', 'Abhinandan is a data scientiest.']"
      ]
     },
     "execution_count": 20,
     "metadata": {},
     "output_type": "execute_result"
    }
   ],
   "source": [
    "fp.readlines()"
   ]
  },
  {
   "cell_type": "code",
   "execution_count": 22,
   "id": "8f633edc",
   "metadata": {},
   "outputs": [
    {
     "data": {
      "text/plain": [
       "str"
      ]
     },
     "execution_count": 22,
     "metadata": {},
     "output_type": "execute_result"
    }
   ],
   "source": [
    "type(\"sample file.txt\")"
   ]
  },
  {
   "cell_type": "code",
   "execution_count": 23,
   "id": "4ec1b083",
   "metadata": {},
   "outputs": [],
   "source": [
    "fp=open(\"sample file.txt\",\"w\")"
   ]
  },
  {
   "cell_type": "code",
   "execution_count": 24,
   "id": "b5588f35",
   "metadata": {},
   "outputs": [
    {
     "data": {
      "text/plain": [
       "27"
      ]
     },
     "execution_count": 24,
     "metadata": {},
     "output_type": "execute_result"
    }
   ],
   "source": [
    "fp.write(\"God is nowhere\\ndo not trust\")"
   ]
  },
  {
   "cell_type": "code",
   "execution_count": 25,
   "id": "a6321328",
   "metadata": {},
   "outputs": [
    {
     "ename": "UnsupportedOperation",
     "evalue": "not readable",
     "output_type": "error",
     "traceback": [
      "\u001b[1;31m---------------------------------------------------------------------------\u001b[0m",
      "\u001b[1;31mUnsupportedOperation\u001b[0m                      Traceback (most recent call last)",
      "\u001b[1;32m<ipython-input-25-2514cc2cfdf3>\u001b[0m in \u001b[0;36m<module>\u001b[1;34m\u001b[0m\n\u001b[1;32m----> 1\u001b[1;33m \u001b[0mfp\u001b[0m\u001b[1;33m.\u001b[0m\u001b[0mread\u001b[0m\u001b[1;33m(\u001b[0m\u001b[1;36m27\u001b[0m\u001b[1;33m)\u001b[0m\u001b[1;33m\u001b[0m\u001b[1;33m\u001b[0m\u001b[0m\n\u001b[0m",
      "\u001b[1;31mUnsupportedOperation\u001b[0m: not readable"
     ]
    }
   ],
   "source": [
    "fp.read(27)"
   ]
  },
  {
   "cell_type": "code",
   "execution_count": 26,
   "id": "8c7ba9d8",
   "metadata": {},
   "outputs": [],
   "source": [
    "fp.close()"
   ]
  },
  {
   "cell_type": "code",
   "execution_count": 27,
   "id": "364d418f",
   "metadata": {},
   "outputs": [],
   "source": [
    "fp=open(\"sample file.txt\")"
   ]
  },
  {
   "cell_type": "code",
   "execution_count": 28,
   "id": "47d04fa5",
   "metadata": {},
   "outputs": [
    {
     "data": {
      "text/plain": [
       "'God is nowhere\\ndo not trust'"
      ]
     },
     "execution_count": 28,
     "metadata": {},
     "output_type": "execute_result"
    }
   ],
   "source": [
    "fp.read(27)"
   ]
  },
  {
   "cell_type": "code",
   "execution_count": 29,
   "id": "ae97a3e8",
   "metadata": {},
   "outputs": [],
   "source": [
    "#W overwrites everythings\n"
   ]
  },
  {
   "cell_type": "code",
   "execution_count": 30,
   "id": "d5738c6b",
   "metadata": {},
   "outputs": [],
   "source": [
    "fp.close()"
   ]
  },
  {
   "cell_type": "code",
   "execution_count": 31,
   "id": "1a661251",
   "metadata": {},
   "outputs": [],
   "source": [
    "fp=open(\"sample file.txt\")"
   ]
  },
  {
   "cell_type": "code",
   "execution_count": 32,
   "id": "e8dce9ca",
   "metadata": {},
   "outputs": [
    {
     "data": {
      "text/plain": [
       "'God is nowhere\\ndo not trust'"
      ]
     },
     "execution_count": 32,
     "metadata": {},
     "output_type": "execute_result"
    }
   ],
   "source": [
    "fp.read()"
   ]
  },
  {
   "cell_type": "code",
   "execution_count": 33,
   "id": "4cb9e6ec",
   "metadata": {},
   "outputs": [],
   "source": [
    "str_val = fp.read()"
   ]
  },
  {
   "cell_type": "code",
   "execution_count": 34,
   "id": "b7ea4aaf",
   "metadata": {},
   "outputs": [
    {
     "data": {
      "text/plain": [
       "0"
      ]
     },
     "execution_count": 34,
     "metadata": {},
     "output_type": "execute_result"
    }
   ],
   "source": [
    "len(str_val)"
   ]
  },
  {
   "cell_type": "code",
   "execution_count": 35,
   "id": "f90cf52c",
   "metadata": {},
   "outputs": [],
   "source": [
    "#Empty because you have read twice"
   ]
  },
  {
   "cell_type": "code",
   "execution_count": 36,
   "id": "f777efd7",
   "metadata": {},
   "outputs": [],
   "source": [
    "fp.close()"
   ]
  },
  {
   "cell_type": "code",
   "execution_count": 43,
   "id": "9d297525",
   "metadata": {},
   "outputs": [],
   "source": [
    "fp = open(\"sample file.txt\",'w+')"
   ]
  },
  {
   "cell_type": "code",
   "execution_count": 44,
   "id": "ed0882ba",
   "metadata": {},
   "outputs": [
    {
     "data": {
      "text/plain": [
       "6"
      ]
     },
     "execution_count": 44,
     "metadata": {},
     "output_type": "execute_result"
    }
   ],
   "source": [
    "fp.write(\"myself\")"
   ]
  },
  {
   "cell_type": "code",
   "execution_count": 45,
   "id": "ad09c882",
   "metadata": {},
   "outputs": [
    {
     "data": {
      "text/plain": [
       "''"
      ]
     },
     "execution_count": 45,
     "metadata": {},
     "output_type": "execute_result"
    }
   ],
   "source": [
    "fp.read(6)"
   ]
  },
  {
   "cell_type": "code",
   "execution_count": 46,
   "id": "6ac82c7d",
   "metadata": {},
   "outputs": [],
   "source": [
    "fp.close()"
   ]
  },
  {
   "cell_type": "code",
   "execution_count": 47,
   "id": "1ece2d67",
   "metadata": {},
   "outputs": [],
   "source": [
    "fp = open(\"sample file.txt\")"
   ]
  },
  {
   "cell_type": "code",
   "execution_count": 50,
   "id": "429eef48",
   "metadata": {},
   "outputs": [],
   "source": [
    "fp.close()"
   ]
  },
  {
   "cell_type": "code",
   "execution_count": 51,
   "id": "00219dc0",
   "metadata": {},
   "outputs": [],
   "source": [
    "fp = open(\"sample file.txt\",'w+')"
   ]
  },
  {
   "cell_type": "code",
   "execution_count": 52,
   "id": "e649f365",
   "metadata": {},
   "outputs": [
    {
     "data": {
      "text/plain": [
       "''"
      ]
     },
     "execution_count": 52,
     "metadata": {},
     "output_type": "execute_result"
    }
   ],
   "source": [
    "fp.read()"
   ]
  },
  {
   "cell_type": "code",
   "execution_count": 53,
   "id": "0698075d",
   "metadata": {},
   "outputs": [
    {
     "data": {
      "text/plain": [
       "0"
      ]
     },
     "execution_count": 53,
     "metadata": {},
     "output_type": "execute_result"
    }
   ],
   "source": [
    "fp.seek(0)"
   ]
  },
  {
   "cell_type": "code",
   "execution_count": 54,
   "id": "20eba12a",
   "metadata": {},
   "outputs": [
    {
     "data": {
      "text/plain": [
       "''"
      ]
     },
     "execution_count": 54,
     "metadata": {},
     "output_type": "execute_result"
    }
   ],
   "source": [
    "fp.read()"
   ]
  },
  {
   "cell_type": "code",
   "execution_count": 61,
   "id": "4d1df315",
   "metadata": {},
   "outputs": [],
   "source": [
    "fp.close()"
   ]
  },
  {
   "cell_type": "code",
   "execution_count": 56,
   "id": "49525b3e",
   "metadata": {},
   "outputs": [],
   "source": [
    "fp = open(\"sample file.txt\",'w+')"
   ]
  },
  {
   "cell_type": "code",
   "execution_count": 57,
   "id": "24878468",
   "metadata": {},
   "outputs": [
    {
     "data": {
      "text/plain": [
       "0"
      ]
     },
     "execution_count": 57,
     "metadata": {},
     "output_type": "execute_result"
    }
   ],
   "source": [
    "fp.seek(0)"
   ]
  },
  {
   "cell_type": "code",
   "execution_count": 58,
   "id": "1111380a",
   "metadata": {},
   "outputs": [
    {
     "data": {
      "text/plain": [
       "''"
      ]
     },
     "execution_count": 58,
     "metadata": {},
     "output_type": "execute_result"
    }
   ],
   "source": [
    "fp.read()"
   ]
  },
  {
   "cell_type": "code",
   "execution_count": 59,
   "id": "734ce9f2",
   "metadata": {},
   "outputs": [],
   "source": [
    "fp.close()"
   ]
  },
  {
   "cell_type": "code",
   "execution_count": 63,
   "id": "3e1544d5",
   "metadata": {},
   "outputs": [],
   "source": [
    "fp = open(\"sample file.txt\",'w+')"
   ]
  },
  {
   "cell_type": "code",
   "execution_count": 64,
   "id": "7c6aeb59",
   "metadata": {},
   "outputs": [
    {
     "data": {
      "text/plain": [
       "0"
      ]
     },
     "execution_count": 64,
     "metadata": {},
     "output_type": "execute_result"
    }
   ],
   "source": [
    "fp.seek(0)"
   ]
  },
  {
   "cell_type": "code",
   "execution_count": 67,
   "id": "be1e9f16",
   "metadata": {},
   "outputs": [],
   "source": [
    "line=fp.read"
   ]
  },
  {
   "cell_type": "code",
   "execution_count": 69,
   "id": "e878e3af",
   "metadata": {},
   "outputs": [
    {
     "ename": "NameError",
     "evalue": "name 'lines' is not defined",
     "output_type": "error",
     "traceback": [
      "\u001b[1;31m---------------------------------------------------------------------------\u001b[0m",
      "\u001b[1;31mNameError\u001b[0m                                 Traceback (most recent call last)",
      "\u001b[1;32m<ipython-input-69-2f32349ac145>\u001b[0m in \u001b[0;36m<module>\u001b[1;34m\u001b[0m\n\u001b[1;32m----> 1\u001b[1;33m \u001b[0mprint\u001b[0m\u001b[1;33m(\u001b[0m\u001b[0mlines\u001b[0m\u001b[1;33m)\u001b[0m\u001b[1;33m\u001b[0m\u001b[1;33m\u001b[0m\u001b[0m\n\u001b[0m",
      "\u001b[1;31mNameError\u001b[0m: name 'lines' is not defined"
     ]
    }
   ],
   "source": [
    "print(lines)"
   ]
  },
  {
   "cell_type": "code",
   "execution_count": 73,
   "id": "a3c717b4",
   "metadata": {},
   "outputs": [],
   "source": [
    "fp=open(\"abhi.txt\",'a+')"
   ]
  },
  {
   "cell_type": "code",
   "execution_count": 74,
   "id": "a3319bd8",
   "metadata": {},
   "outputs": [
    {
     "data": {
      "text/plain": [
       "17"
      ]
     },
     "execution_count": 74,
     "metadata": {},
     "output_type": "execute_result"
    }
   ],
   "source": [
    "fp.write(\"myn name is singh\")"
   ]
  },
  {
   "cell_type": "code",
   "execution_count": 75,
   "id": "dfd72222",
   "metadata": {},
   "outputs": [
    {
     "data": {
      "text/plain": [
       "0"
      ]
     },
     "execution_count": 75,
     "metadata": {},
     "output_type": "execute_result"
    }
   ],
   "source": [
    "fp.seek(0)"
   ]
  },
  {
   "cell_type": "code",
   "execution_count": 76,
   "id": "bb432917",
   "metadata": {},
   "outputs": [
    {
     "data": {
      "text/plain": [
       "'myn name is singh'"
      ]
     },
     "execution_count": 76,
     "metadata": {},
     "output_type": "execute_result"
    }
   ],
   "source": [
    "fp.read()"
   ]
  },
  {
   "cell_type": "code",
   "execution_count": null,
   "id": "bf0d3cec",
   "metadata": {},
   "outputs": [],
   "source": []
  }
 ],
 "metadata": {
  "kernelspec": {
   "display_name": "Python 3",
   "language": "python",
   "name": "python3"
  },
  "language_info": {
   "codemirror_mode": {
    "name": "ipython",
    "version": 3
   },
   "file_extension": ".py",
   "mimetype": "text/x-python",
   "name": "python",
   "nbconvert_exporter": "python",
   "pygments_lexer": "ipython3",
   "version": "3.8.8"
  }
 },
 "nbformat": 4,
 "nbformat_minor": 5
}
